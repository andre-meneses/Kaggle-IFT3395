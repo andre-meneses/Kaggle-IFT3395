{
 "cells": [
  {
   "cell_type": "code",
   "execution_count": 1,
   "metadata": {},
   "outputs": [],
   "source": [
    "import pandas as pd\n",
    "import numpy as np"
   ]
  },
  {
   "cell_type": "code",
   "execution_count": 2,
   "metadata": {},
   "outputs": [],
   "source": [
    "# Load and preprocess the data\n",
    "train_data = pd.read_csv(r'/Users/lfarias/Downloads/Kaggle-IFT3395/data/train.csv')\n",
    "test_data = pd.read_csv(r'/Users/lfarias/Downloads/Kaggle-IFT3395/data/test.csv')"
   ]
  },
  {
   "cell_type": "code",
   "execution_count": 12,
   "metadata": {},
   "outputs": [],
   "source": [
    "# Extract features for the training data\n",
    "X_train = train_data.iloc[:, :-1].values  # Features in the training data\n",
    "y_train = train_data.iloc[:, -1].values   # Labels in the training data\n",
    "\n",
    "# Extract features for the testing data (no labels to extract)\n",
    "X_test = test_data.values    # Features in the testing data"
   ]
  },
  {
   "cell_type": "code",
   "execution_count": 13,
   "metadata": {},
   "outputs": [],
   "source": [
    "# Calculate class probabilities and means\n",
    "class_probs = {}\n",
    "class_means = {}\n",
    "unique_labels = np.unique(y_train)"
   ]
  },
  {
   "cell_type": "code",
   "execution_count": 14,
   "metadata": {},
   "outputs": [],
   "source": [
    "for label in unique_labels:\n",
    "    label_data = X_train[y_train == label]\n",
    "    class_probs[label] = len(label_data) / len(X_train)\n",
    "    class_means[label] = label_data.mean(axis=0)"
   ]
  },
  {
   "cell_type": "code",
   "execution_count": 15,
   "metadata": {},
   "outputs": [],
   "source": [
    "# Calculate class conditional probabilities using Gaussian PDF\n",
    "class_conditional_probs = {}\n",
    "for label in unique_labels:\n",
    "    class_conditional_probs[label] = 1\n",
    "    for feature in range(X_test.shape[1]):\n",
    "        mean = class_means[label][feature]\n",
    "        std = label_data[:, feature].std()\n",
    "        class_conditional_probs[label] *= (1 / (np.sqrt(2 * np.pi) * std)) * \\\n",
    "                                         np.exp(-((X_test[:, feature] - mean) ** 2) / (2 * std ** 2))"
   ]
  },
  {
   "cell_type": "code",
   "execution_count": 16,
   "metadata": {},
   "outputs": [],
   "source": [
    "# Predict labels\n",
    "predicted_labels = []\n",
    "for i in range(X_test.shape[0]):\n",
    "    label_probs = {label: class_probs[label] * class_conditional_probs[label][i] for label in unique_labels}\n",
    "    predicted_label = max(label_probs, key=label_probs.get)\n",
    "    predicted_labels.append(predicted_label)"
   ]
  },
  {
   "cell_type": "code",
   "execution_count": 21,
   "metadata": {},
   "outputs": [
    {
     "name": "stdout",
     "output_type": "stream",
     "text": [
      "Class Probabilities: {0: 0.7859472743521001, 1: 0.04077301161751564, 2: 0.17327971403038428}\n",
      "Class Means: {0: array([ 2.09419580e+04,  3.52194307e-01,  2.67825274e+02,  3.46270444e+01,\n",
      "       -1.64843427e+00,  5.93275596e-03, -2.86162513e+00, -9.45144632e-01,\n",
      "        1.46190333e-02,  1.01563385e+05,  1.01566071e+05,  2.16847614e+02,\n",
      "        2.64564604e+02,  3.76258564e-08,  2.98766745e+02,  2.97284192e+02,\n",
      "        1.35824807e+02,  1.23007254e+04,  6.54725716e+01,  2.00185448e+07]), 1: array([ 2.53147304e+04,  1.66020753e+01,  2.57650342e+02,  5.28834353e+01,\n",
      "       -1.02042799e+00,  2.01965898e+00, -8.36697389e-02,  7.22683439e-01,\n",
      "        1.86470194e-02,  1.00696231e+05,  1.00698073e+05,  2.19222039e+02,\n",
      "        2.67780020e+02,  2.13048627e-07,  3.01286273e+02,  3.00310328e+02,\n",
      "        7.85775925e+01,  1.24024712e+04,  6.63000082e+01,  2.00255644e+07]), 2: array([ 2.82148860e+04, -2.24332661e+01,  2.78561799e+02,  3.03020554e+01,\n",
      "        4.19766588e+00, -6.01809694e-01,  6.56169394e-01, -5.46199165e-01,\n",
      "        1.22641114e-02,  1.01711398e+05,  1.01712006e+05,  2.16183423e+02,\n",
      "        2.62603254e+02,  4.35679163e-08,  2.95737989e+02,  2.94490977e+02,\n",
      "        1.47545658e+02,  1.22155726e+04,  6.47694636e+01,  2.00182218e+07])}\n",
      "Class Conditional Probabilities: {0: array([1.73538535e-40, 1.73558375e-40, 1.02280371e-40, ...,\n",
      "       1.23316840e-45, 9.96492046e-46, 9.96549836e-46]), 1: array([1.50050139e-55, 1.50070876e-55, 1.14124846e-55, ...,\n",
      "       8.17305051e-34, 5.92517659e-34, 5.92566167e-34]), 2: array([2.73761325e-35, 2.73803495e-35, 1.68705113e-35, ...,\n",
      "       1.24863989e-53, 1.52774860e-53, 1.52789786e-53])}\n"
     ]
    }
   ],
   "source": [
    "# Print intermediate values for debugging\n",
    "print(\"Class Probabilities:\", class_probs)\n",
    "print(\"Class Means:\", class_means)\n",
    "print(\"Class Conditional Probabilities:\", class_conditional_probs)"
   ]
  },
  {
   "cell_type": "code",
   "execution_count": 22,
   "metadata": {},
   "outputs": [],
   "source": [
    "# Output results with 'SNo' and 'Label' columns\n",
    "results = pd.DataFrame({'SNo': test_data['SNo'], 'Label': predicted_labels})\n",
    "results.to_csv('submission.csv', index=False)"
   ]
  }
 ],
 "metadata": {
  "kernelspec": {
   "display_name": "Python 3",
   "language": "python",
   "name": "python3"
  },
  "language_info": {
   "codemirror_mode": {
    "name": "ipython",
    "version": 3
   },
   "file_extension": ".py",
   "mimetype": "text/x-python",
   "name": "python",
   "nbconvert_exporter": "python",
   "pygments_lexer": "ipython3",
   "version": "3.11.0"
  },
  "orig_nbformat": 4
 },
 "nbformat": 4,
 "nbformat_minor": 2
}
