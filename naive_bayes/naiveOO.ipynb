{
 "cells": [
  {
   "cell_type": "code",
   "execution_count": 1,
   "metadata": {},
   "outputs": [],
   "source": [
    "import pandas as pd \n",
    "import numpy as np"
   ]
  },
  {
   "cell_type": "code",
   "execution_count": 2,
   "metadata": {},
   "outputs": [],
   "source": [
    "# Load the train and test data\n",
    "train = pd.read_csv('/Users/lfarias/Downloads/Kaggle-IFT3395/data/train.csv')\n",
    "test = pd.read_csv('/Users/lfarias/Downloads/Kaggle-IFT3395/data/test.csv')\n",
    "\n",
    "# Extract features for the training data\n",
    "X_train = train.iloc[:, :-1]  # Features in the training data\n",
    "y_train = train.iloc[:, -1]    # Labels in the training data\n",
    "\n",
    "# Extract features for the testing data (no labels to extract)\n",
    "X_test = test.values    # Features in the testing data"
   ]
  },
  {
   "cell_type": "code",
   "execution_count": 3,
   "metadata": {},
   "outputs": [],
   "source": [
    "class GaussianNaiveBayes:\n",
    "    def fit(self, X, y):\n",
    "        n_samples, n_features = X.shape\n",
    "        self._classes = np.unique(y)\n",
    "        n_classes = len(self._classes)\n",
    "        self._mean = np.zeros((n_classes, n_features), dtype=np.float64)\n",
    "        self._var = np.zeros((n_classes, n_features), dtype=np.float64)\n",
    "        self._priors = np.zeros(n_classes, dtype=np.float64)\n",
    "\n",
    "        for i, c in enumerate(self._classes):\n",
    "            X_for_class_c = X[y == c]\n",
    "            self._mean[i, :] = X_for_class_c.mean(axis=0)\n",
    "            self._var[i, :] = X_for_class_c.var(axis=0)\n",
    "            self._priors[i] = X_for_class_c.shape[0] / float(n_samples)\n",
    "\n",
    "    def _calculate_likelihood(self, class_idx, x):\n",
    "        mean = self._mean[class_idx]\n",
    "        var = self._var[class_idx]\n",
    "        num = np.exp(- (x - mean) ** 2 / (2 * var))\n",
    "        denom = np.sqrt(2 * np.pi * var)\n",
    "        return num / denom \n",
    "\n",
    "    def predict(self, X):\n",
    "        y_pred = [self._classify_sample(x) for x in X]\n",
    "        return np.array(y_pred)\n",
    "\n",
    "    def _classify_sample(self, x):\n",
    "        posteriors = []\n",
    "        \n",
    "        for i, c in enumerate(self._classes):\n",
    "            prior = np.log(self._priors[i])\n",
    "            posterior = np.sum(np.log(self._calculate_likelihood(i, x)))\n",
    "            posterior = prior + posterior\n",
    "            posteriors.append(posterior)\n",
    "        \n",
    "        return self._classes[np.argmax(posteriors)]"
   ]
  },
  {
   "cell_type": "code",
   "execution_count": 4,
   "metadata": {},
   "outputs": [],
   "source": [
    "# Fit the Gaussian Naive Bayes model\n",
    "gnb = GaussianNaiveBayes()\n",
    "gnb.fit(X_train.values, y_train.values)"
   ]
  },
  {
   "cell_type": "code",
   "execution_count": 5,
   "metadata": {},
   "outputs": [],
   "source": [
    "# Make predictions on the test data\n",
    "predicted_labels = gnb.predict(X_test)"
   ]
  },
  {
   "cell_type": "code",
   "execution_count": null,
   "metadata": {},
   "outputs": [],
   "source": [
    "# Create a DataFrame with 'SNo' and 'Label' columns\n",
    "results = pd.DataFrame({'SNo': test['SNo'], 'Label': predicted_labels})\n",
    "\n",
    "# Save the results to a CSV file\n",
    "results.to_csv('gnb.csv', index=False)"
   ]
  }
 ],
 "metadata": {
  "kernelspec": {
   "display_name": "Python 3",
   "language": "python",
   "name": "python3"
  },
  "language_info": {
   "codemirror_mode": {
    "name": "ipython",
    "version": 3
   },
   "file_extension": ".py",
   "mimetype": "text/x-python",
   "name": "python",
   "nbconvert_exporter": "python",
   "pygments_lexer": "ipython3",
   "version": "3.11.0"
  },
  "orig_nbformat": 4
 },
 "nbformat": 4,
 "nbformat_minor": 2
}
