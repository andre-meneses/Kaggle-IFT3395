{
 "cells": [
  {
   "cell_type": "code",
   "execution_count": 16,
   "metadata": {},
   "outputs": [],
   "source": [
    "import pandas as pd \n",
    "import numpy as np\n",
    "import matplotlib.pyplot as plt\n",
    "import configparser"
   ]
  },
  {
   "cell_type": "code",
   "execution_count": 9,
   "metadata": {},
   "outputs": [],
   "source": [
    "config = configparser.ConfigParser()\n",
    "config.read('config.ini')\n",
    "\n",
    "train_file_path = config['Paths']['train_file']\n",
    "test_file_path = config['Paths']['test_file']\n",
    "\n",
    "train = pd.read_csv(train_file_path)\n",
    "test = pd.read_csv(test_file_path)\n",
    "\n",
    "X_train = train.iloc[:, :-1]  # features in the training data\n",
    "y_train = train.iloc[:, -1]    # labels in the training data\n",
    "\n",
    "X_test = test.values    # features in the testing data (no labels)"
   ]
  },
  {
   "cell_type": "code",
   "execution_count": 10,
   "metadata": {},
   "outputs": [],
   "source": [
    "class GaussianNaiveBayes:\n",
    "    \"\"\"\n",
    "    A Gaussian Naive Bayes classifier implementation for continuous data.\n",
    "\n",
    "    Attributes:\n",
    "        None\n",
    "\n",
    "    Methods:\n",
    "        - fit(X, y): Fit the classifier to the training data.\n",
    "        - predict(X): Predict the class labels for a set of input samples.\n",
    "\n",
    "    \"\"\"\n",
    "    def fit(self, X, y):\n",
    "        \"\"\"\n",
    "        Fit the Gaussian Naive Bayes classifier to the training data.\n",
    "\n",
    "        Parameters:\n",
    "            X (numpy.ndarray): Training data with shape (n_samples, n_features).\n",
    "            y (numpy.ndarray): Target labels with shape (n_samples,).\n",
    "\n",
    "        Returns:\n",
    "            None\n",
    "\n",
    "        \"\"\"\n",
    "        n_samples, n_features = X.shape\n",
    "        self._classes = np.unique(y)\n",
    "        n_classes = len(self._classes)\n",
    "        self._mean = np.zeros((n_classes, n_features), dtype=np.float64)\n",
    "        self._var = np.zeros((n_classes, n_features), dtype=np.float64)\n",
    "        self._priors = np.zeros(n_classes, dtype=np.float64)\n",
    "\n",
    "        for i, c in enumerate(self._classes):\n",
    "            X_for_class_c = X[y == c]\n",
    "            self._mean[i, :] = X_for_class_c.mean(axis=0)\n",
    "            self._var[i, :] = X_for_class_c.var(axis=0)\n",
    "            self._priors[i] = X_for_class_c.shape[0] / float(n_samples)\n",
    "\n",
    "    def _calculate_likelihood(self, class_idx, x):\n",
    "        \"\"\"\n",
    "        Calculate the likelihood for a sample belonging to a class.\n",
    "\n",
    "        Parameters:\n",
    "            class_idx (int): Index of the target class.\n",
    "            x (numpy.ndarray): Input sample.\n",
    "\n",
    "        Returns:\n",
    "            numpy.ndarray: Array of likelihood values.\n",
    "\n",
    "        \"\"\"\n",
    "        mean = self._mean[class_idx]\n",
    "        var = self._var[class_idx]\n",
    "        num = np.exp(- (x - mean) ** 2 / (2 * var))\n",
    "        denom = np.sqrt(2 * np.pi * var)\n",
    "        return num / denom\n",
    "\n",
    "    def predict(self, X):\n",
    "        \"\"\"\n",
    "        Predict the class labels for a set of input samples.\n",
    "\n",
    "        Parameters:\n",
    "            X (numpy.ndarray): Input samples with shape (n_samples, n_features).\n",
    "\n",
    "        Returns:\n",
    "            numpy.ndarray: Predicted class labels for the input samples.\n",
    "\n",
    "        \"\"\"\n",
    "        y_pred = [self._classify_sample(x) for x in X]\n",
    "        return np.array(y_pred)\n",
    "\n",
    "    def _classify_sample(self, x):\n",
    "        \"\"\"\n",
    "        Classify a single input sample into one of the classes.\n",
    "\n",
    "        Parameters:\n",
    "            x (numpy.ndarray): Input sample.\n",
    "\n",
    "        Returns:\n",
    "            int: Predicted class label for the input sample.\n",
    "\n",
    "        \"\"\"\n",
    "        posteriors = []\n",
    "\n",
    "        for i, c in enumerate(self._classes):\n",
    "            prior = np.log(self._priors[i])\n",
    "            posterior = np.sum(np.log(self._calculate_likelihood(i, x)))\n",
    "            posterior = prior + posterior\n",
    "            posteriors.append(posterior)\n",
    "\n",
    "        return self._classes[np.argmax(posteriors)]"
   ]
  },
  {
   "cell_type": "code",
   "execution_count": 27,
   "metadata": {},
   "outputs": [],
   "source": [
    "import numpy as np\n",
    "\n",
    "class MultinomialNaiveBayes:\n",
    "    \"\"\"\n",
    "    A Multinomial Naive Bayes classifier implementation for discrete data.\n",
    "\n",
    "    Attributes:\n",
    "        None\n",
    "\n",
    "    Methods:\n",
    "        - fit(X, y): Fit the classifier to the training data.\n",
    "        - predict(X): Predict the class labels for a set of input samples.\n",
    "\n",
    "    \"\"\"\n",
    "    def fit(self, X, y):\n",
    "        \"\"\"\n",
    "        Fit the Multinomial Naive Bayes classifier to the training data.\n",
    "\n",
    "        Parameters:\n",
    "            X (numpy.ndarray): Training data with shape (n_samples, n_features) representing word counts or frequencies.\n",
    "            y (numpy.ndarray): Target labels with shape (n_samples,).\n",
    "\n",
    "        Returns:\n",
    "            None\n",
    "\n",
    "        \"\"\"\n",
    "        n_samples, n_features = X.shape\n",
    "        self._classes = np.unique(y)\n",
    "        n_classes = len(self._classes)\n",
    "        self._class_counts = np.zeros(n_classes, dtype=np.float64)\n",
    "        self._feature_counts = np.zeros((n_classes, n_features), dtype=np.float64)\n",
    "        self._class_priors = np.zeros(n_classes, dtype=np.float64)\n",
    "\n",
    "        for i, c in enumerate(self._classes):\n",
    "            X_for_class_c = X[y == c]\n",
    "            self._class_counts[i] = X_for_class_c.shape[0]\n",
    "            self._feature_counts[i, :] = X_for_class_c.sum(axis=0)\n",
    "            self._class_priors[i] = X_for_class_c.shape[0] / float(n_samples)\n",
    "\n",
    "    def _calculate_likelihood(self, class_idx, x):\n",
    "        \"\"\"\n",
    "        Calculate the likelihood for a sample belonging to a class.\n",
    "\n",
    "        Parameters:\n",
    "            class_idx (int): Index of the target class.\n",
    "            x (numpy.ndarray): Input sample representing word counts or frequencies.\n",
    "\n",
    "        Returns:\n",
    "            numpy.ndarray: Array of likelihood values.\n",
    "\n",
    "        \"\"\"\n",
    "        feature_counts = self._feature_counts[class_idx]\n",
    "        total_feature_count = feature_counts.sum()\n",
    "        num = x + 1  # Laplace smoothing\n",
    "        denom = total_feature_count + len(x)  # Laplace smoothing\n",
    "        return num / denom\n",
    "\n",
    "    def predict(self, X):\n",
    "        \"\"\"\n",
    "        Predict the class labels for a set of input samples.\n",
    "\n",
    "        Parameters:\n",
    "            X (numpy.ndarray): Input samples with shape (n_samples, n_features).\n",
    "\n",
    "        Returns:\n",
    "            numpy.ndarray: Predicted class labels for the input samples.\n",
    "\n",
    "        \"\"\"\n",
    "        y_pred = [self._classify_sample(x) for x in X]\n",
    "        return np.array(y_pred)\n",
    "\n",
    "    def _classify_sample(self, x):\n",
    "        \"\"\"\n",
    "        Classify a single input sample into one of the classes.\n",
    "\n",
    "        Parameters:\n",
    "            x (numpy.ndarray): Input sample representing word counts or frequencies.\n",
    "\n",
    "        Returns:\n",
    "            int: Predicted class label for the input sample.\n",
    "\n",
    "        \"\"\"\n",
    "        posteriors = []\n",
    "\n",
    "        for i, c in enumerate(self._classes):\n",
    "            prior = np.log(self._class_priors[i])\n",
    "            likelihood = np.log(self._calculate_likelihood(i, x))\n",
    "            posterior = prior + np.sum(likelihood)\n",
    "            posteriors.append(posterior)\n",
    "\n",
    "        return self._classes[np.argmax(posteriors)]\n"
   ]
  },
  {
   "cell_type": "code",
   "execution_count": 37,
   "metadata": {},
   "outputs": [],
   "source": [
    "import numpy as np\n",
    "import pandas as pd\n",
    "\n",
    "class SVM:\n",
    "    def __init__(self, learning_rate=0.01, n_iterations=1000):\n",
    "        self.learning_rate = learning_rate\n",
    "        self.n_iterations = n_iterations\n",
    "\n",
    "    def fit(self, X, y):\n",
    "        # Add a bias term (intercept) to the data\n",
    "        X['bias'] = 1\n",
    "        X = X[['bias'] + X.columns[:-1].tolist()]\n",
    "        \n",
    "        self.X = X.to_numpy()\n",
    "        self.y = y.to_numpy()\n",
    "        self.weights = np.zeros(X.shape[1])\n",
    "\n",
    "        for _ in range(self.n_iterations):\n",
    "            for i, x in enumerate(self.X):\n",
    "                if self.y[i] * np.dot(x, self.weights) < 1:\n",
    "                    self.weights += self.learning_rate * (self.y[i] * x - 2 * self.weights)\n",
    "\n",
    "    def predict(self, X):\n",
    "    # Create a new 'bias' column with values of 1\n",
    "        X['bias'] = 1\n",
    "\n",
    "    # Reorder the columns to have 'bias' as the first column\n",
    "        X = X[['bias'] + X.columns[:-1].tolist()]\n",
    "\n",
    "    # Convert the DataFrame to a NumPy array\n",
    "        X = X.to_numpy()\n",
    "\n",
    "        y_pred = np.dot(X, self.weights)\n",
    "        y_pred = np.sign(y_pred)\n",
    "        return y_pred\n"
   ]
  },
  {
   "cell_type": "code",
   "execution_count": 38,
   "metadata": {},
   "outputs": [
    {
     "ename": "IndexError",
     "evalue": "only integers, slices (`:`), ellipsis (`...`), numpy.newaxis (`None`) and integer or boolean arrays are valid indices",
     "output_type": "error",
     "traceback": [
      "\u001b[0;31m---------------------------------------------------------------------------\u001b[0m",
      "\u001b[0;31mIndexError\u001b[0m                                Traceback (most recent call last)",
      "\u001b[1;32m/Users/lfarias/Downloads/Kaggle-IFT3395/naive_bayes/naiveOO.ipynb Cell 6\u001b[0m line \u001b[0;36m3\n\u001b[1;32m      <a href='vscode-notebook-cell:/Users/lfarias/Downloads/Kaggle-IFT3395/naive_bayes/naiveOO.ipynb#X23sZmlsZQ%3D%3D?line=0'>1</a>\u001b[0m svm \u001b[39m=\u001b[39m SVM()\n\u001b[1;32m      <a href='vscode-notebook-cell:/Users/lfarias/Downloads/Kaggle-IFT3395/naive_bayes/naiveOO.ipynb#X23sZmlsZQ%3D%3D?line=1'>2</a>\u001b[0m svm\u001b[39m.\u001b[39mfit(X_train, y_train)\n\u001b[0;32m----> <a href='vscode-notebook-cell:/Users/lfarias/Downloads/Kaggle-IFT3395/naive_bayes/naiveOO.ipynb#X23sZmlsZQ%3D%3D?line=2'>3</a>\u001b[0m y_pred \u001b[39m=\u001b[39m svm\u001b[39m.\u001b[39;49mpredict(X_test)\n",
      "\u001b[1;32m/Users/lfarias/Downloads/Kaggle-IFT3395/naive_bayes/naiveOO.ipynb Cell 6\u001b[0m line \u001b[0;36m2\n\u001b[1;32m     <a href='vscode-notebook-cell:/Users/lfarias/Downloads/Kaggle-IFT3395/naive_bayes/naiveOO.ipynb#X23sZmlsZQ%3D%3D?line=22'>23</a>\u001b[0m \u001b[39mdef\u001b[39;00m \u001b[39mpredict\u001b[39m(\u001b[39mself\u001b[39m, X):\n\u001b[1;32m     <a href='vscode-notebook-cell:/Users/lfarias/Downloads/Kaggle-IFT3395/naive_bayes/naiveOO.ipynb#X23sZmlsZQ%3D%3D?line=23'>24</a>\u001b[0m \u001b[39m# Create a new 'bias' column with values of 1\u001b[39;00m\n\u001b[0;32m---> <a href='vscode-notebook-cell:/Users/lfarias/Downloads/Kaggle-IFT3395/naive_bayes/naiveOO.ipynb#X23sZmlsZQ%3D%3D?line=24'>25</a>\u001b[0m     X[\u001b[39m'\u001b[39;49m\u001b[39mbias\u001b[39;49m\u001b[39m'\u001b[39;49m] \u001b[39m=\u001b[39m \u001b[39m1\u001b[39m\n\u001b[1;32m     <a href='vscode-notebook-cell:/Users/lfarias/Downloads/Kaggle-IFT3395/naive_bayes/naiveOO.ipynb#X23sZmlsZQ%3D%3D?line=26'>27</a>\u001b[0m \u001b[39m# Reorder the columns to have 'bias' as the first column\u001b[39;00m\n\u001b[1;32m     <a href='vscode-notebook-cell:/Users/lfarias/Downloads/Kaggle-IFT3395/naive_bayes/naiveOO.ipynb#X23sZmlsZQ%3D%3D?line=27'>28</a>\u001b[0m     X \u001b[39m=\u001b[39m X[[\u001b[39m'\u001b[39m\u001b[39mbias\u001b[39m\u001b[39m'\u001b[39m] \u001b[39m+\u001b[39m X\u001b[39m.\u001b[39mcolumns[:\u001b[39m-\u001b[39m\u001b[39m1\u001b[39m]\u001b[39m.\u001b[39mtolist()]\n",
      "\u001b[0;31mIndexError\u001b[0m: only integers, slices (`:`), ellipsis (`...`), numpy.newaxis (`None`) and integer or boolean arrays are valid indices"
     ]
    }
   ],
   "source": [
    "svm = SVM()\n",
    "svm.fit(X_train, y_train)\n",
    "y_pred = svm.predict(X_test)"
   ]
  },
  {
   "cell_type": "code",
   "execution_count": 30,
   "metadata": {},
   "outputs": [
    {
     "name": "stderr",
     "output_type": "stream",
     "text": [
      "/var/folders/r_/502n_mrx325cyl3pchdhn5380000gn/T/ipykernel_75573/3471521120.py:87: RuntimeWarning: invalid value encountered in log\n",
      "  likelihood = np.log(self._calculate_likelihood(i, x))\n"
     ]
    }
   ],
   "source": [
    "# Usage\n",
    "mnb = MultinomialNaiveBayes()\n",
    "mnb.fit(X_train.values, y_train.values)\n",
    "pred = mnb.predict(X_test)"
   ]
  },
  {
   "cell_type": "code",
   "execution_count": 31,
   "metadata": {},
   "outputs": [],
   "source": [
    "res = pd.DataFrame({'SNo': test['SNo'], 'Label': pred})\n",
    "res.to_csv('mnb.csv', index=False)"
   ]
  },
  {
   "cell_type": "code",
   "execution_count": 11,
   "metadata": {},
   "outputs": [],
   "source": [
    "gnb = GaussianNaiveBayes()\n",
    "gnb.fit(X_train.values, y_train.values)"
   ]
  },
  {
   "cell_type": "code",
   "execution_count": 12,
   "metadata": {},
   "outputs": [],
   "source": [
    "predicted_labels = gnb.predict(X_test)"
   ]
  },
  {
   "cell_type": "code",
   "execution_count": 6,
   "metadata": {},
   "outputs": [],
   "source": [
    "results = pd.DataFrame({'SNo': test['SNo'], 'Label': predicted_labels})\n",
    "results.to_csv('gnb.csv', index=False)"
   ]
  },
  {
   "cell_type": "code",
   "execution_count": 15,
   "metadata": {},
   "outputs": [],
   "source": [
    "actual_labels = train['Label'].to_numpy()"
   ]
  },
  {
   "cell_type": "code",
   "execution_count": 21,
   "metadata": {},
   "outputs": [],
   "source": [
    "def plot_confusion_matrix(actual, predicted):\n",
    "    unique_classes = np.unique(np.concatenate((actual, predicted)))\n",
    "    matrix = np.zeros((len(unique_classes), len(unique_classes),))\n",
    "    for a, p in zip(actual, predicted):\n",
    "        matrix[a][p] += 1\n",
    "\n",
    "    plt.figure(figsize=(6, 6))\n",
    "    plt.imshow(matrix, interpolation='nearest', cmap=plt.cm.Blues)\n",
    "    plt.title('Confusion Matrix')\n",
    "    plt.colorbar()\n",
    "    tick_marks = np.arange(len(unique_classes))\n",
    "    plt.xticks(tick_marks, unique_classes)\n",
    "    plt.yticks(tick_marks, unique_classes)\n",
    "\n",
    "    for i in range(len(unique_classes)):\n",
    "        for j in range(len(unique_classes)):\n",
    "            plt.text(j, i, str(int(matrix[i, j])),\n",
    "                horizontalalignment=\"center\", color=\"white\" if matrix[i, j] > matrix.max() / 2. else \"black\")\n",
    "\n",
    "    plt.xlabel('Predicted')\n",
    "    plt.ylabel('Actual')\n",
    "    plt.show()\n"
   ]
  },
  {
   "cell_type": "code",
   "execution_count": 22,
   "metadata": {},
   "outputs": [
    {
     "data": {
      "image/png": "[encoded data removed]",
      "text/plain": [
       "<Figure size 600x600 with 2 Axes>"
      ]
     },
     "metadata": {},
     "output_type": "display_data"
    }
   ],
   "source": [
    "plot_confusion_matrix(actual_labels, predicted_labels)"
   ]
  },
  {
   "cell_type": "code",
   "execution_count": 13,
   "metadata": {},
   "outputs": [
    {
     "data": {
      "image/png": "[encoded data removed]",
      "text/plain": [
       "<Figure size 800x600 with 1 Axes>"
      ]
     },
     "metadata": {},
     "output_type": "display_data"
    }
   ],
   "source": [
    "plt.figure(figsize=(8, 6))\n",
    "plt.hist(predicted_labels, bins=np.arange(4) - 0.5, rwidth=0.8, alpha=0.75, color='blue', edgecolor='black')\n",
    "plt.xticks(range(3))\n",
    "plt.xlabel('Predicted Labels')\n",
    "plt.ylabel('Count')\n",
    "plt.title('Distribution of Predicted Labels')\n",
    "plt.grid(axis='y', linestyle='--', alpha=0.7)\n",
    "plt.show()"
   ]
  }
 ],
 "metadata": {
  "kernelspec": {
   "display_name": "Python 3",
   "language": "python",
   "name": "python3"
  },
  "language_info": {
   "codemirror_mode": {
    "name": "ipython",
    "version": 3
   },
   "file_extension": ".py",
   "mimetype": "text/x-python",
   "name": "python",
   "nbconvert_exporter": "python",
   "pygments_lexer": "ipython3",
   "version": "3.11.0"
  },
  "orig_nbformat": 4
 },
 "nbformat": 4,
 "nbformat_minor": 2
}
