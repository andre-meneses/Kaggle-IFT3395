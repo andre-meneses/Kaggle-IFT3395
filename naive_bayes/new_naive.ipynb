{
 "cells": [
  {
   "cell_type": "code",
   "execution_count": 32,
   "metadata": {},
   "outputs": [],
   "source": [
    "import pandas as pd \n",
    "import numpy as np"
   ]
  },
  {
   "cell_type": "code",
   "execution_count": 44,
   "metadata": {},
   "outputs": [],
   "source": [
    "train = pd.read_csv(r'/Users/lfarias/Downloads/Kaggle-IFT3395/data/train.csv')\n",
    "test = pd.read_csv(r'/Users/lfarias/Downloads/Kaggle-IFT3395/data/test.csv')\n",
    "\n",
    "#y_train = train['Label']  # Corrected 'Label' here\n",
    "#X_train = train.drop(['Label'], axis=1)\n",
    "\n",
    "#y_test = test\n",
    "#X_test = test\n"
   ]
  },
  {
   "cell_type": "code",
   "execution_count": 45,
   "metadata": {},
   "outputs": [],
   "source": [
    "means = train.groupby([\"Label\"]).mean() # Estimate mean of each class, feature\n",
    "var = train.groupby([\"Label\"]).var() # Estimate variance of each class, feature\n",
    "prior = (train.groupby(\"Label\").count() / len(train)).iloc[:,1] # Estimate prior probabilities\n",
    "classes = np.unique(train[\"Label\"].tolist()) # Storing all possible classes"
   ]
  },
  {
   "cell_type": "code",
   "execution_count": 46,
   "metadata": {},
   "outputs": [],
   "source": [
    "def Normal(n, mu, var):\n",
    "    \n",
    "    # Function to return pdf of Normal(mu, var) evaluated at x\n",
    "    sd = np.sqrt(var)\n",
    "    pdf = (np.e ** (-0.5 * ((n - mu)/sd) ** 2)) / (sd * np.sqrt(2 * np.pi))\n",
    "    \n",
    "    return pdf"
   ]
  },
  {
   "cell_type": "code",
   "execution_count": 47,
   "metadata": {},
   "outputs": [],
   "source": [
    "def Predict(X):\n",
    "    Predictions = []\n",
    "    \n",
    "    for i in X.index: # Loop through each instances\n",
    "        \n",
    "        ClassLikelihood = []\n",
    "        instance = X.loc[i]\n",
    "        \n",
    "        for cls in classes: # Loop through each class\n",
    "            \n",
    "            FeatureLikelihoods = []\n",
    "            FeatureLikelihoods.append(np.log(prior[cls])) # Append log prior of class 'cls'\n",
    "            \n",
    "            for col in X_train.columns: # Loop through each feature\n",
    "                \n",
    "                data = instance[col]\n",
    "                \n",
    "                mean = means[col].loc[cls] # Find the mean of column 'col' that are in class 'cls'\n",
    "                variance = var[col].loc[cls] # Find the variance of column 'col' that are in class 'cls'\n",
    "                \n",
    "                Likelihood = Normal(data, mean, variance)\n",
    "                \n",
    "                if Likelihood != 0:\n",
    "                    Likelihood = np.log(Likelihood) # Find the log-likelihood evaluated at x\n",
    "                else:\n",
    "                    Likelihood = 1/len(train) \n",
    "                \n",
    "                FeatureLikelihoods.append(Likelihood)\n",
    "                \n",
    "            TotalLikelihood = sum(FeatureLikelihoods) # Calculate posterior\n",
    "            ClassLikelihood.append(TotalLikelihood)\n",
    "            \n",
    "        MaxIndex = ClassLikelihood.index(max(ClassLikelihood)) # Find largest posterior position\n",
    "        Prediction = classes[MaxIndex]\n",
    "        Predictions.append(Prediction)\n",
    "        \n",
    "    return Predictions"
   ]
  },
  {
   "cell_type": "code",
   "execution_count": 49,
   "metadata": {},
   "outputs": [],
   "source": [
    "PredictTrain = Predict(train)\n",
    "# PredictTest = Predict(X_test)"
   ]
  },
  {
   "cell_type": "code",
   "execution_count": 50,
   "metadata": {},
   "outputs": [],
   "source": [
    "PredictTest = Predict(test)"
   ]
  },
  {
   "cell_type": "code",
   "execution_count": 51,
   "metadata": {},
   "outputs": [],
   "source": [
    "def Accuracy(y, prediction):\n",
    "    \n",
    "    # Function to calculate accuracy\n",
    "    y = list(y)\n",
    "    prediction = list(prediction)\n",
    "    score = 0\n",
    "    \n",
    "    for i, j in zip(y, prediction):\n",
    "        if i == j:\n",
    "            score += 1\n",
    "            \n",
    "    return score / len(y)"
   ]
  },
  {
   "cell_type": "code",
   "execution_count": 52,
   "metadata": {},
   "outputs": [
    {
     "data": {
      "text/plain": [
       "0.0"
      ]
     },
     "execution_count": 52,
     "metadata": {},
     "output_type": "execute_result"
    }
   ],
   "source": [
    "round(Accuracy(train, PredictTrain), 5)"
   ]
  },
  {
   "cell_type": "code",
   "execution_count": 54,
   "metadata": {},
   "outputs": [
    {
     "data": {
      "text/plain": [
       "0.0"
      ]
     },
     "execution_count": 54,
     "metadata": {},
     "output_type": "execute_result"
    }
   ],
   "source": [
    "round(Accuracy(test, PredictTest), 5)"
   ]
  },
  {
   "cell_type": "code",
   "execution_count": 55,
   "metadata": {},
   "outputs": [],
   "source": [
    "class GaussianNaiveBayes:\n",
    "    def fit(self, X, y):\n",
    "        n_samples, n_features = X.shape\n",
    "        self._classes = np.unique(y)\n",
    "        n_classes = len(self._classes)\n",
    "        self._mean = np.zeros((n_classes, n_features), dtype=np.float64)\n",
    "        self._var = np.zeros((n_classes, n_features), dtype=np.float64)\n",
    "        self._priors =  np.zeros(n_classes, dtype=np.float64)\n",
    "\n",
    "        for i, c in enumerate(self._classes):\n",
    "            X_for_class_c = X[y==c]\n",
    "            self._mean[i, :] = X_for_class_c.mean(axis=0)\n",
    "            self._var[i, :] = X_for_class_c.var(axis=0)\n",
    "            self._priors[i] = X_for_class_c.shape[0] / float(n_samples)\n",
    "\n",
    "    def _calculate_likelihood(self, class_idx, x):\n",
    "        mean = self._mean[class_idx]\n",
    "        var = self._var[class_idx]\n",
    "        num = np.exp(- (x-mean)**2 / (2 * var))\n",
    "        denom = np.sqrt(2 * np.pi * var)\n",
    "        return num / denom \n",
    "\n",
    "    def predict(self, X):\n",
    "        y_pred = [self._classify_sample(x) for x in X]\n",
    "        return np.array(y_pred)\n",
    "\n",
    "    def _classify_sample(self, x):\n",
    "        posteriors = []\n",
    "        \n",
    "        for i, c in enumerate(self._classes):\n",
    "            prior = np.log(self._priors[i])\n",
    "            posterior = np.sum(np.log(self._calculate_likelihood(i, x)))\n",
    "            posterior = prior + posterior\n",
    "            posteriors.append(posterior)\n",
    "        \n",
    "        return self._classes[np.argmax(posteriors)]"
   ]
  },
  {
   "cell_type": "code",
   "execution_count": 62,
   "metadata": {},
   "outputs": [
    {
     "ename": "UFuncTypeError",
     "evalue": "ufunc 'subtract' did not contain a loop with signature matching types (dtype('<U3'), dtype('float64')) -> None",
     "output_type": "error",
     "traceback": [
      "\u001b[0;31m---------------------------------------------------------------------------\u001b[0m",
      "\u001b[0;31mUFuncTypeError\u001b[0m                            Traceback (most recent call last)",
      "\u001b[1;32m/Users/lfarias/Downloads/Kaggle-IFT3395/naive_bayes/new_naive.ipynb Cell 13\u001b[0m line \u001b[0;36m6\n\u001b[1;32m      <a href='vscode-notebook-cell:/Users/lfarias/Downloads/Kaggle-IFT3395/naive_bayes/new_naive.ipynb#X24sZmlsZQ%3D%3D?line=3'>4</a>\u001b[0m nb \u001b[39m=\u001b[39m GaussianNaiveBayes()\n\u001b[1;32m      <a href='vscode-notebook-cell:/Users/lfarias/Downloads/Kaggle-IFT3395/naive_bayes/new_naive.ipynb#X24sZmlsZQ%3D%3D?line=4'>5</a>\u001b[0m nb\u001b[39m.\u001b[39mfit(X_train, y_train)\n\u001b[0;32m----> <a href='vscode-notebook-cell:/Users/lfarias/Downloads/Kaggle-IFT3395/naive_bayes/new_naive.ipynb#X24sZmlsZQ%3D%3D?line=5'>6</a>\u001b[0m nb\u001b[39m.\u001b[39;49mpredict(X_test)\n",
      "\u001b[1;32m/Users/lfarias/Downloads/Kaggle-IFT3395/naive_bayes/new_naive.ipynb Cell 13\u001b[0m line \u001b[0;36m2\n\u001b[1;32m     <a href='vscode-notebook-cell:/Users/lfarias/Downloads/Kaggle-IFT3395/naive_bayes/new_naive.ipynb#X24sZmlsZQ%3D%3D?line=22'>23</a>\u001b[0m \u001b[39mdef\u001b[39;00m \u001b[39mpredict\u001b[39m(\u001b[39mself\u001b[39m, X):\n\u001b[0;32m---> <a href='vscode-notebook-cell:/Users/lfarias/Downloads/Kaggle-IFT3395/naive_bayes/new_naive.ipynb#X24sZmlsZQ%3D%3D?line=23'>24</a>\u001b[0m     y_pred \u001b[39m=\u001b[39m [\u001b[39mself\u001b[39;49m\u001b[39m.\u001b[39;49m_classify_sample(x) \u001b[39mfor\u001b[39;49;00m x \u001b[39min\u001b[39;49;00m X]\n\u001b[1;32m     <a href='vscode-notebook-cell:/Users/lfarias/Downloads/Kaggle-IFT3395/naive_bayes/new_naive.ipynb#X24sZmlsZQ%3D%3D?line=24'>25</a>\u001b[0m     \u001b[39mreturn\u001b[39;00m np\u001b[39m.\u001b[39marray(y_pred)\n",
      "\u001b[1;32m/Users/lfarias/Downloads/Kaggle-IFT3395/naive_bayes/new_naive.ipynb Cell 13\u001b[0m line \u001b[0;36m2\n\u001b[1;32m     <a href='vscode-notebook-cell:/Users/lfarias/Downloads/Kaggle-IFT3395/naive_bayes/new_naive.ipynb#X24sZmlsZQ%3D%3D?line=22'>23</a>\u001b[0m \u001b[39mdef\u001b[39;00m \u001b[39mpredict\u001b[39m(\u001b[39mself\u001b[39m, X):\n\u001b[0;32m---> <a href='vscode-notebook-cell:/Users/lfarias/Downloads/Kaggle-IFT3395/naive_bayes/new_naive.ipynb#X24sZmlsZQ%3D%3D?line=23'>24</a>\u001b[0m     y_pred \u001b[39m=\u001b[39m [\u001b[39mself\u001b[39;49m\u001b[39m.\u001b[39;49m_classify_sample(x) \u001b[39mfor\u001b[39;00m x \u001b[39min\u001b[39;00m X]\n\u001b[1;32m     <a href='vscode-notebook-cell:/Users/lfarias/Downloads/Kaggle-IFT3395/naive_bayes/new_naive.ipynb#X24sZmlsZQ%3D%3D?line=24'>25</a>\u001b[0m     \u001b[39mreturn\u001b[39;00m np\u001b[39m.\u001b[39marray(y_pred)\n",
      "\u001b[1;32m/Users/lfarias/Downloads/Kaggle-IFT3395/naive_bayes/new_naive.ipynb Cell 13\u001b[0m line \u001b[0;36m3\n\u001b[1;32m     <a href='vscode-notebook-cell:/Users/lfarias/Downloads/Kaggle-IFT3395/naive_bayes/new_naive.ipynb#X24sZmlsZQ%3D%3D?line=29'>30</a>\u001b[0m \u001b[39mfor\u001b[39;00m i, c \u001b[39min\u001b[39;00m \u001b[39menumerate\u001b[39m(\u001b[39mself\u001b[39m\u001b[39m.\u001b[39m_classes):\n\u001b[1;32m     <a href='vscode-notebook-cell:/Users/lfarias/Downloads/Kaggle-IFT3395/naive_bayes/new_naive.ipynb#X24sZmlsZQ%3D%3D?line=30'>31</a>\u001b[0m     prior \u001b[39m=\u001b[39m np\u001b[39m.\u001b[39mlog(\u001b[39mself\u001b[39m\u001b[39m.\u001b[39m_priors[i])\n\u001b[0;32m---> <a href='vscode-notebook-cell:/Users/lfarias/Downloads/Kaggle-IFT3395/naive_bayes/new_naive.ipynb#X24sZmlsZQ%3D%3D?line=31'>32</a>\u001b[0m     posterior \u001b[39m=\u001b[39m np\u001b[39m.\u001b[39msum(np\u001b[39m.\u001b[39mlog(\u001b[39mself\u001b[39;49m\u001b[39m.\u001b[39;49m_calculate_likelihood(i, x)))\n\u001b[1;32m     <a href='vscode-notebook-cell:/Users/lfarias/Downloads/Kaggle-IFT3395/naive_bayes/new_naive.ipynb#X24sZmlsZQ%3D%3D?line=32'>33</a>\u001b[0m     posterior \u001b[39m=\u001b[39m prior \u001b[39m+\u001b[39m posterior\n\u001b[1;32m     <a href='vscode-notebook-cell:/Users/lfarias/Downloads/Kaggle-IFT3395/naive_bayes/new_naive.ipynb#X24sZmlsZQ%3D%3D?line=33'>34</a>\u001b[0m     posteriors\u001b[39m.\u001b[39mappend(posterior)\n",
      "\u001b[1;32m/Users/lfarias/Downloads/Kaggle-IFT3395/naive_bayes/new_naive.ipynb Cell 13\u001b[0m line \u001b[0;36m1\n\u001b[1;32m     <a href='vscode-notebook-cell:/Users/lfarias/Downloads/Kaggle-IFT3395/naive_bayes/new_naive.ipynb#X24sZmlsZQ%3D%3D?line=16'>17</a>\u001b[0m mean \u001b[39m=\u001b[39m \u001b[39mself\u001b[39m\u001b[39m.\u001b[39m_mean[class_idx]\n\u001b[1;32m     <a href='vscode-notebook-cell:/Users/lfarias/Downloads/Kaggle-IFT3395/naive_bayes/new_naive.ipynb#X24sZmlsZQ%3D%3D?line=17'>18</a>\u001b[0m var \u001b[39m=\u001b[39m \u001b[39mself\u001b[39m\u001b[39m.\u001b[39m_var[class_idx]\n\u001b[0;32m---> <a href='vscode-notebook-cell:/Users/lfarias/Downloads/Kaggle-IFT3395/naive_bayes/new_naive.ipynb#X24sZmlsZQ%3D%3D?line=18'>19</a>\u001b[0m num \u001b[39m=\u001b[39m np\u001b[39m.\u001b[39mexp(\u001b[39m-\u001b[39m (x\u001b[39m-\u001b[39;49mmean)\u001b[39m*\u001b[39m\u001b[39m*\u001b[39m\u001b[39m2\u001b[39m \u001b[39m/\u001b[39m (\u001b[39m2\u001b[39m \u001b[39m*\u001b[39m var))\n\u001b[1;32m     <a href='vscode-notebook-cell:/Users/lfarias/Downloads/Kaggle-IFT3395/naive_bayes/new_naive.ipynb#X24sZmlsZQ%3D%3D?line=19'>20</a>\u001b[0m denom \u001b[39m=\u001b[39m np\u001b[39m.\u001b[39msqrt(\u001b[39m2\u001b[39m \u001b[39m*\u001b[39m np\u001b[39m.\u001b[39mpi \u001b[39m*\u001b[39m var)\n\u001b[1;32m     <a href='vscode-notebook-cell:/Users/lfarias/Downloads/Kaggle-IFT3395/naive_bayes/new_naive.ipynb#X24sZmlsZQ%3D%3D?line=20'>21</a>\u001b[0m \u001b[39mreturn\u001b[39;00m num \u001b[39m/\u001b[39m denom\n",
      "\u001b[0;31mUFuncTypeError\u001b[0m: ufunc 'subtract' did not contain a loop with signature matching types (dtype('<U3'), dtype('float64')) -> None"
     ]
    }
   ],
   "source": [
    "filepath = \"../data/train.csv\"\n",
    "dataset = Dataset(r'/Users/lfarias/Downloads/Kaggle-IFT3395/data/train.csv')\n",
    "\n",
    "nb = GaussianNaiveBayes()\n",
    "nb.fit(X_train, y_train)\n",
    "nb.predict(X_test)"
   ]
  }
 ],
 "metadata": {
  "kernelspec": {
   "display_name": "Python 3",
   "language": "python",
   "name": "python3"
  },
  "language_info": {
   "codemirror_mode": {
    "name": "ipython",
    "version": 3
   },
   "file_extension": ".py",
   "mimetype": "text/x-python",
   "name": "python",
   "nbconvert_exporter": "python",
   "pygments_lexer": "ipython3",
   "version": "3.11.0"
  },
  "orig_nbformat": 4
 },
 "nbformat": 4,
 "nbformat_minor": 2
}
