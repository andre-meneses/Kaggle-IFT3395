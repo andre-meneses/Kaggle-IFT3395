{
 "cells": [
  {
   "cell_type": "code",
   "execution_count": 2,
   "metadata": {},
   "outputs": [],
   "source": [
    "import pandas as pd \n",
    "import numpy as np"
   ]
  },
  {
   "cell_type": "code",
   "execution_count": 4,
   "metadata": {},
   "outputs": [],
   "source": [
    "train = pd.read_csv(r'/Users/lfarias/Downloads/Kaggle-IFT3395/data/train.csv')\n",
    "test = pd.read_csv(r'/Users/lfarias/Downloads/Kaggle-IFT3395/data/test.csv')\n",
    "\n",
    "# Extract features for the training data\n",
    "X_train = train.iloc[:, :-1].values  # Features in the training data\n",
    "y_train = train.iloc[:, -1].values   # Labels in the training data\n",
    "\n",
    "# Extract features for the testing data (no labels to extract)\n",
    "X_test = test.values    # Features in the testing data\n"
   ]
  },
  {
   "cell_type": "code",
   "execution_count": 5,
   "metadata": {},
   "outputs": [],
   "source": [
    "means = train.groupby([\"Label\"]).mean()  # Estimate mean of each class, feature\n",
    "var = train.groupby([\"Label\"]).var()     # Estimate variance of each class, feature\n",
    "prior = (train.groupby(\"Label\").count() / len(train)).iloc[:, 1]  # Estimate prior probabilities\n",
    "classes = np.unique(train[\"Label\"].tolist())  # Storing all possible classes"
   ]
  },
  {
   "cell_type": "code",
   "execution_count": 6,
   "metadata": {},
   "outputs": [],
   "source": [
    "def Normal(n, mu, var):\n",
    "    # Function to return pdf of Normal(mu, var) evaluated at x\n",
    "    sd = np.sqrt(var)\n",
    "    pdf = (np.e ** (-0.5 * ((n - mu) / sd) ** 2)) / (sd * np.sqrt(2 * np.pi)\n",
    "    \n",
    "    return pdf"
   ]
  },
  {
   "cell_type": "code",
   "execution_count": 10,
   "metadata": {},
   "outputs": [],
   "source": [
    "# Calculate class probabilities and class conditional probabilities for the test data\n",
    "class_probs = {}\n",
    "class_conditional_probs = []"
   ]
  },
  {
   "cell_type": "code",
   "execution_count": 11,
   "metadata": {},
   "outputs": [
    {
     "ename": "AttributeError",
     "evalue": "'numpy.ndarray' object has no attribute 'iloc'",
     "output_type": "error",
     "traceback": [
      "\u001b[0;31m---------------------------------------------------------------------------\u001b[0m",
      "\u001b[0;31mAttributeError\u001b[0m                            Traceback (most recent call last)",
      "\u001b[1;32m/Users/lfarias/Downloads/Kaggle-IFT3395/naive_bayes/new_naive.ipynb Cell 6\u001b[0m line \u001b[0;36m2\n\u001b[1;32m      <a href='vscode-notebook-cell:/Users/lfarias/Downloads/Kaggle-IFT3395/naive_bayes/new_naive.ipynb#X20sZmlsZQ%3D%3D?line=0'>1</a>\u001b[0m \u001b[39mfor\u001b[39;00m i \u001b[39min\u001b[39;00m \u001b[39mrange\u001b[39m(\u001b[39mlen\u001b[39m(X_test)):\n\u001b[0;32m----> <a href='vscode-notebook-cell:/Users/lfarias/Downloads/Kaggle-IFT3395/naive_bayes/new_naive.ipynb#X20sZmlsZQ%3D%3D?line=1'>2</a>\u001b[0m     instance \u001b[39m=\u001b[39m X_test\u001b[39m.\u001b[39;49miloc[i]\n\u001b[1;32m      <a href='vscode-notebook-cell:/Users/lfarias/Downloads/Kaggle-IFT3395/naive_bayes/new_naive.ipynb#X20sZmlsZQ%3D%3D?line=2'>3</a>\u001b[0m     class_likelihood \u001b[39m=\u001b[39m []\n\u001b[1;32m      <a href='vscode-notebook-cell:/Users/lfarias/Downloads/Kaggle-IFT3395/naive_bayes/new_naive.ipynb#X20sZmlsZQ%3D%3D?line=4'>5</a>\u001b[0m     \u001b[39mfor\u001b[39;00m \u001b[39mcls\u001b[39m \u001b[39min\u001b[39;00m classes:\n",
      "\u001b[0;31mAttributeError\u001b[0m: 'numpy.ndarray' object has no attribute 'iloc'"
     ]
    }
   ],
   "source": [
    "for i in range(len(X_test)):\n",
    "    instance = X_test.iloc[i]\n",
    "    class_likelihood = []\n",
    "    \n",
    "    for cls in classes:\n",
    "        feature_likelihoods = [np.log(prior[cls])]  # Append log prior of class 'cls'\n",
    "        \n",
    "        for col in X_train.columns:\n",
    "            data = instance[col]\n",
    "            \n",
    "            mean = means[col].loc[cls]\n",
    "            variance = var[col].loc[cls]\n",
    "            \n",
    "            likelihood = Normal(data, mean, variance)\n",
    "            \n",
    "            if likelihood != 0:\n",
    "                likelihood = np.log(likelihood)\n",
    "            else:\n",
    "                likelihood = 1 / len(train)\n",
    "            \n",
    "            feature_likelihoods.append(likelihood)\n",
    "        \n",
    "        total_likelihood = sum(feature_likelihoods)\n",
    "        class_likelihood.append(total_likelihood)\n",
    "    \n",
    "    max_index = class_likelihood.index(max(class_likelihood))\n",
    "    predicted_label = classes[max_index]\n",
    "    \n",
    "    class_probs[i + 1] = predicted_label  # Store results in a dictionary"
   ]
  },
  {
   "cell_type": "code",
   "execution_count": null,
   "metadata": {},
   "outputs": [],
   "source": [
    "# Create a DataFrame with 'SNo' and 'Label' columns\n",
    "results = pd.DataFrame(class_probs.items(), columns=['SNo', 'Label'])\n",
    "\n",
    "# Save the results to a CSV file\n",
    "results.to_csv('results.csv', index=False)"
   ]
  },
  {
   "cell_type": "code",
   "execution_count": 7,
   "metadata": {},
   "outputs": [],
   "source": [
    "def Predict(X):\n",
    "    Predictions = []\n",
    "    \n",
    "    for i in X.index: # Loop through each instances\n",
    "        \n",
    "        ClassLikelihood = []\n",
    "        instance = X.loc[i]\n",
    "        \n",
    "        for cls in classes: # Loop through each class\n",
    "            \n",
    "            FeatureLikelihoods = []\n",
    "            FeatureLikelihoods.append(np.log(prior[cls])) # Append log prior of class 'cls'\n",
    "            \n",
    "            for col in X_train.columns: # Loop through each feature\n",
    "                \n",
    "                data = instance[col]\n",
    "                \n",
    "                mean = means[col].loc[cls] # Find the mean of column 'col' that are in class 'cls'\n",
    "                variance = var[col].loc[cls] # Find the variance of column 'col' that are in class 'cls'\n",
    "                \n",
    "                Likelihood = Normal(data, mean, variance)\n",
    "                \n",
    "                if Likelihood != 0:\n",
    "                    Likelihood = np.log(Likelihood) # Find the log-likelihood evaluated at x\n",
    "                else:\n",
    "                    Likelihood = 1/len(train) \n",
    "                \n",
    "                FeatureLikelihoods.append(Likelihood)\n",
    "                \n",
    "            TotalLikelihood = sum(FeatureLikelihoods) # Calculate posterior\n",
    "            ClassLikelihood.append(TotalLikelihood)\n",
    "            \n",
    "        MaxIndex = ClassLikelihood.index(max(ClassLikelihood)) # Find largest posterior position\n",
    "        Prediction = classes[MaxIndex]\n",
    "        Predictions.append(Prediction)\n",
    "        \n",
    "    return Predictions"
   ]
  },
  {
   "cell_type": "code",
   "execution_count": 8,
   "metadata": {},
   "outputs": [
    {
     "ename": "AttributeError",
     "evalue": "'numpy.ndarray' object has no attribute 'columns'",
     "output_type": "error",
     "traceback": [
      "\u001b[0;31m---------------------------------------------------------------------------\u001b[0m",
      "\u001b[0;31mAttributeError\u001b[0m                            Traceback (most recent call last)",
      "\u001b[1;32m/Users/lfarias/Downloads/Kaggle-IFT3395/naive_bayes/new_naive.ipynb Cell 6\u001b[0m line \u001b[0;36m1\n\u001b[0;32m----> <a href='vscode-notebook-cell:/Users/lfarias/Downloads/Kaggle-IFT3395/naive_bayes/new_naive.ipynb#W5sZmlsZQ%3D%3D?line=0'>1</a>\u001b[0m PredictTrain \u001b[39m=\u001b[39m Predict(train)\n\u001b[1;32m      <a href='vscode-notebook-cell:/Users/lfarias/Downloads/Kaggle-IFT3395/naive_bayes/new_naive.ipynb#W5sZmlsZQ%3D%3D?line=1'>2</a>\u001b[0m \u001b[39m# PredictTest = Predict(X_test)\u001b[39;00m\n",
      "\u001b[1;32m/Users/lfarias/Downloads/Kaggle-IFT3395/naive_bayes/new_naive.ipynb Cell 6\u001b[0m line \u001b[0;36m1\n\u001b[1;32m     <a href='vscode-notebook-cell:/Users/lfarias/Downloads/Kaggle-IFT3395/naive_bayes/new_naive.ipynb#W5sZmlsZQ%3D%3D?line=10'>11</a>\u001b[0m FeatureLikelihoods \u001b[39m=\u001b[39m []\n\u001b[1;32m     <a href='vscode-notebook-cell:/Users/lfarias/Downloads/Kaggle-IFT3395/naive_bayes/new_naive.ipynb#W5sZmlsZQ%3D%3D?line=11'>12</a>\u001b[0m FeatureLikelihoods\u001b[39m.\u001b[39mappend(np\u001b[39m.\u001b[39mlog(prior[\u001b[39mcls\u001b[39m])) \u001b[39m# Append log prior of class 'cls'\u001b[39;00m\n\u001b[0;32m---> <a href='vscode-notebook-cell:/Users/lfarias/Downloads/Kaggle-IFT3395/naive_bayes/new_naive.ipynb#W5sZmlsZQ%3D%3D?line=13'>14</a>\u001b[0m \u001b[39mfor\u001b[39;00m col \u001b[39min\u001b[39;00m X_train\u001b[39m.\u001b[39;49mcolumns: \u001b[39m# Loop through each feature\u001b[39;00m\n\u001b[1;32m     <a href='vscode-notebook-cell:/Users/lfarias/Downloads/Kaggle-IFT3395/naive_bayes/new_naive.ipynb#W5sZmlsZQ%3D%3D?line=15'>16</a>\u001b[0m     data \u001b[39m=\u001b[39m instance[col]\n\u001b[1;32m     <a href='vscode-notebook-cell:/Users/lfarias/Downloads/Kaggle-IFT3395/naive_bayes/new_naive.ipynb#W5sZmlsZQ%3D%3D?line=17'>18</a>\u001b[0m     mean \u001b[39m=\u001b[39m means[col]\u001b[39m.\u001b[39mloc[\u001b[39mcls\u001b[39m] \u001b[39m# Find the mean of column 'col' that are in class 'cls'\u001b[39;00m\n",
      "\u001b[0;31mAttributeError\u001b[0m: 'numpy.ndarray' object has no attribute 'columns'"
     ]
    }
   ],
   "source": [
    "PredictTrain = Predict(train)\n",
    "# PredictTest = Predict(X_test)"
   ]
  },
  {
   "cell_type": "code",
   "execution_count": 9,
   "metadata": {},
   "outputs": [
    {
     "ename": "AttributeError",
     "evalue": "'numpy.ndarray' object has no attribute 'columns'",
     "output_type": "error",
     "traceback": [
      "\u001b[0;31m---------------------------------------------------------------------------\u001b[0m",
      "\u001b[0;31mAttributeError\u001b[0m                            Traceback (most recent call last)",
      "\u001b[1;32m/Users/lfarias/Downloads/Kaggle-IFT3395/naive_bayes/new_naive.ipynb Cell 7\u001b[0m line \u001b[0;36m1\n\u001b[0;32m----> <a href='vscode-notebook-cell:/Users/lfarias/Downloads/Kaggle-IFT3395/naive_bayes/new_naive.ipynb#W6sZmlsZQ%3D%3D?line=0'>1</a>\u001b[0m PredictTest \u001b[39m=\u001b[39m Predict(test)\n",
      "\u001b[1;32m/Users/lfarias/Downloads/Kaggle-IFT3395/naive_bayes/new_naive.ipynb Cell 7\u001b[0m line \u001b[0;36m1\n\u001b[1;32m     <a href='vscode-notebook-cell:/Users/lfarias/Downloads/Kaggle-IFT3395/naive_bayes/new_naive.ipynb#W6sZmlsZQ%3D%3D?line=10'>11</a>\u001b[0m FeatureLikelihoods \u001b[39m=\u001b[39m []\n\u001b[1;32m     <a href='vscode-notebook-cell:/Users/lfarias/Downloads/Kaggle-IFT3395/naive_bayes/new_naive.ipynb#W6sZmlsZQ%3D%3D?line=11'>12</a>\u001b[0m FeatureLikelihoods\u001b[39m.\u001b[39mappend(np\u001b[39m.\u001b[39mlog(prior[\u001b[39mcls\u001b[39m])) \u001b[39m# Append log prior of class 'cls'\u001b[39;00m\n\u001b[0;32m---> <a href='vscode-notebook-cell:/Users/lfarias/Downloads/Kaggle-IFT3395/naive_bayes/new_naive.ipynb#W6sZmlsZQ%3D%3D?line=13'>14</a>\u001b[0m \u001b[39mfor\u001b[39;00m col \u001b[39min\u001b[39;00m X_train\u001b[39m.\u001b[39;49mcolumns: \u001b[39m# Loop through each feature\u001b[39;00m\n\u001b[1;32m     <a href='vscode-notebook-cell:/Users/lfarias/Downloads/Kaggle-IFT3395/naive_bayes/new_naive.ipynb#W6sZmlsZQ%3D%3D?line=15'>16</a>\u001b[0m     data \u001b[39m=\u001b[39m instance[col]\n\u001b[1;32m     <a href='vscode-notebook-cell:/Users/lfarias/Downloads/Kaggle-IFT3395/naive_bayes/new_naive.ipynb#W6sZmlsZQ%3D%3D?line=17'>18</a>\u001b[0m     mean \u001b[39m=\u001b[39m means[col]\u001b[39m.\u001b[39mloc[\u001b[39mcls\u001b[39m] \u001b[39m# Find the mean of column 'col' that are in class 'cls'\u001b[39;00m\n",
      "\u001b[0;31mAttributeError\u001b[0m: 'numpy.ndarray' object has no attribute 'columns'"
     ]
    }
   ],
   "source": [
    "PredictTest = Predict(test)"
   ]
  },
  {
   "cell_type": "code",
   "execution_count": 12,
   "metadata": {},
   "outputs": [],
   "source": [
    "import pandas as pd\n",
    "import numpy as np\n",
    "\n",
    "# Define the GaussianNaiveBayes class\n",
    "class GaussianNaiveBayes:\n",
    "    def fit(self, X, y):\n",
    "        n_samples, n_features = X.shape\n",
    "        self._classes = np.unique(y)\n",
    "        n_classes = len(self._classes)\n",
    "        self._mean = np.zeros((n_classes, n_features), dtype=np.float64)\n",
    "        self._var = np.zeros((n_classes, n_features), dtype=np.float64)\n",
    "        self._priors = np.zeros(n_classes, dtype=np.float64)\n",
    "\n",
    "        for i, c in enumerate(self._classes):\n",
    "            X_for_class_c = X[y == c]\n",
    "            self._mean[i, :] = X_for_class_c.mean(axis=0)\n",
    "            self._var[i, :] = X_for_class_c.var(axis=0)\n",
    "            self._priors[i] = X_for_class_c.shape[0] / float(n_samples)\n",
    "\n",
    "    def _calculate_likelihood(self, class_idx, x):\n",
    "        mean = self._mean[class_idx]\n",
    "        var = self._var[class_idx]\n",
    "        num = np.exp(- (x - mean) ** 2 / (2 * var))\n",
    "        denom = np.sqrt(2 * np.pi * var)\n",
    "        return num / denom \n",
    "\n",
    "    def predict(self, X):\n",
    "        y_pred = [self._classify_sample(x) for x in X]\n",
    "        return np.array(y_pred)\n",
    "\n",
    "    def _classify_sample(self, x):\n",
    "        posteriors = []\n",
    "        \n",
    "        for i, c in enumerate(self._classes):\n",
    "            prior = np.log(self._priors[i])\n",
    "            posterior = np.sum(np.log(self._calculate_likelihood(i, x)))\n",
    "            posterior = prior + posterior\n",
    "            posteriors.append(posterior)\n",
    "        \n",
    "        return self._classes[np.argmax(posteriors)]\n",
    "\n",
    "# Load the train and test data\n",
    "train = pd.read_csv('/Users/lfarias/Downloads/Kaggle-IFT3395/data/train.csv')\n",
    "test = pd.read_csv('/Users/lfarias/Downloads/Kaggle-IFT3395/data/test.csv')\n",
    "\n",
    "# Extract features for the training data\n",
    "X_train = train.iloc[:, :-1]  # Features in the training data\n",
    "y_train = train.iloc[:, -1]    # Labels in the training data\n",
    "\n",
    "# Extract features for the testing data (no labels to extract)\n",
    "X_test = test.values    # Features in the testing data\n",
    "\n",
    "# Fit the Gaussian Naive Bayes model\n",
    "gnb = GaussianNaiveBayes()\n",
    "gnb.fit(X_train.values, y_train.values)\n",
    "\n",
    "# Make predictions on the test data\n",
    "predicted_labels = gnb.predict(X_test)\n",
    "\n",
    "# Create a DataFrame with 'SNo' and 'Label' columns\n",
    "results = pd.DataFrame({'SNo': test['SNo'], 'Label': predicted_labels})\n",
    "\n",
    "# Save the results to a CSV file\n",
    "results.to_csv('results.csv', index=False)\n"
   ]
  }
 ],
 "metadata": {
  "kernelspec": {
   "display_name": "Python 3",
   "language": "python",
   "name": "python3"
  },
  "language_info": {
   "codemirror_mode": {
    "name": "ipython",
    "version": 3
   },
   "file_extension": ".py",
   "mimetype": "text/x-python",
   "name": "python",
   "nbconvert_exporter": "python",
   "pygments_lexer": "ipython3",
   "version": "3.11.0"
  },
  "orig_nbformat": 4
 },
 "nbformat": 4,
 "nbformat_minor": 2
}
