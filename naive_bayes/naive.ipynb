{
 "cells": [
  {
   "cell_type": "code",
   "execution_count": 104,
   "metadata": {},
   "outputs": [],
   "source": [
    "import pandas as pd\n",
    "import numpy as np\n"
   ]
  },
  {
   "cell_type": "code",
   "execution_count": 105,
   "metadata": {},
   "outputs": [],
   "source": [
    "def load_data(train_path, test_path):\n",
    "    train = pd.read_csv(train_path)\n",
    "    test = pd.read_csv(test_path)\n",
    "    return train, test"
   ]
  },
  {
   "cell_type": "code",
   "execution_count": 106,
   "metadata": {},
   "outputs": [],
   "source": [
    "def separate_by_class(dataset):\n",
    "    separated = {}\n",
    "    for _, row in dataset.iterrows():\n",
    "        class_value = row.iloc[-1]\n",
    "        if class_value not in separated:\n",
    "            separated[class_value] = []\n",
    "        separated[class_value].append(row.values)\n",
    "    return separated"
   ]
  },
  {
   "cell_type": "code",
   "execution_count": 107,
   "metadata": {},
   "outputs": [
    {
     "name": "stdout",
     "output_type": "stream",
     "text": [
      "Unique classes: [1.0, 2.0, 0.0]\n"
     ]
    }
   ],
   "source": [
    "a = separate_by_class1(df.values)\n"
   ]
  },
  {
   "cell_type": "code",
   "execution_count": 108,
   "metadata": {},
   "outputs": [],
   "source": [
    "def mean(numbers):\n",
    "    return sum(numbers)/float(len(numbers))"
   ]
  },
  {
   "cell_type": "code",
   "execution_count": 109,
   "metadata": {},
   "outputs": [],
   "source": [
    "def stdev(numbers):\n",
    "    avg = mean(numbers)\n",
    "    variance = sum([(x-avg)**2 for x in numbers])/float(len(numbers)-1)\n",
    "    return np.sqrt(variance)"
   ]
  },
  {
   "cell_type": "code",
   "execution_count": 110,
   "metadata": {},
   "outputs": [],
   "source": [
    "def summarize(data):\n",
    "    means = data.mean()\n",
    "    stdevs = data.std()\n",
    "    return [(mean, std) for mean, std in zip(means, stdevs)]"
   ]
  },
  {
   "cell_type": "code",
   "execution_count": 111,
   "metadata": {},
   "outputs": [],
   "source": [
    "def summarize_by_class(train_data):\n",
    "    separated = separate_by_class(train_data)\n",
    "    summaries = {}\n",
    "    for class_value, data in separated.items():\n",
    "        summaries[class_value] = summarize(pd.DataFrame(data))\n",
    "    return summaries"
   ]
  },
  {
   "cell_type": "code",
   "execution_count": 112,
   "metadata": {},
   "outputs": [],
   "source": [
    "def calculate_probability(x, mean, stdev):\n",
    "    exponent = np.exp(-((x - mean) ** 2 / (2 * stdev ** 2)))\n",
    "    return (1 / (np.sqrt(2 * np.pi) * stdev)) * exponent"
   ]
  },
  {
   "cell_type": "code",
   "execution_count": 121,
   "metadata": {},
   "outputs": [],
   "source": [
    "def calculate_class_probabilities(summaries, row):\n",
    "    probabilities = {}\n",
    "    for class_value, class_summaries in summaries.items():\n",
    "        probabilities[class_value] = 1.0  # Initialize the probability for the class\n",
    "        for i, (mean, stdev) in enumerate(class_summaries):\n",
    "            probabilities[class_value] *= calculate_probability(row[i], mean, stdev)\n",
    "    \n",
    "    return probabilities\n"
   ]
  },
  {
   "cell_type": "code",
   "execution_count": 122,
   "metadata": {},
   "outputs": [],
   "source": [
    "def predict(summaries, row):\n",
    "    probabilities = calculate_class_probabilities(summaries, row[:17])  # Use only the first 17 features\n",
    "    best_label, best_prob = None, -1\n",
    "    for class_value, probability in probabilities.items():\n",
    "        if best_label is None or probability > best_prob:\n",
    "            best_prob = probability\n",
    "            best_label = class_value\n",
    "    return best_label\n"
   ]
  },
  {
   "cell_type": "code",
   "execution_count": 131,
   "metadata": {},
   "outputs": [],
   "source": [
    "def naive_bayes(train, test):\n",
    "    summaries = summarize_by_class(train)  # Use a different variable name here\n",
    "    predictions = [predict(summaries, row[:17]) for _, row in test.iterrows()]\n",
    "    return predictions"
   ]
  },
  {
   "cell_type": "code",
   "execution_count": 128,
   "metadata": {},
   "outputs": [],
   "source": [
    "def accuracy_metric(actual, predicted):\n",
    "    correct = sum(1 for a, p in zip(actual, predicted) if a == p)\n",
    "    return correct / len(actual) * 100.0"
   ]
  },
  {
   "cell_type": "code",
   "execution_count": 129,
   "metadata": {},
   "outputs": [],
   "source": [
    "train_path = r\"/Users/lfarias/Downloads/Kaggle-IFT3395/data/train.csv\"  # Replace with the actual path to your training data CSV file\n",
    "test_path = r\"/Users/lfarias/Downloads/Kaggle-IFT3395/data/test.csv\"  # Replace with the actual path to your testing data CSV file\n",
    "\n",
    "train_data, test_data = load_data(train_path, test_path)"
   ]
  },
  {
   "cell_type": "code",
   "execution_count": 132,
   "metadata": {},
   "outputs": [
    {
     "ename": "AttributeError",
     "evalue": "'function' object has no attribute 'items'",
     "output_type": "error",
     "traceback": [
      "\u001b[0;31m---------------------------------------------------------------------------\u001b[0m",
      "\u001b[0;31mAttributeError\u001b[0m                            Traceback (most recent call last)",
      "\u001b[1;32m/Users/lfarias/Downloads/Kaggle-IFT3395/naive_bayes/naive.ipynb Cell 15\u001b[0m line \u001b[0;36m1\n\u001b[0;32m----> <a href='vscode-notebook-cell:/Users/lfarias/Downloads/Kaggle-IFT3395/naive_bayes/naive.ipynb#X43sZmlsZQ%3D%3D?line=0'>1</a>\u001b[0m predictions \u001b[39m=\u001b[39m [predict(summarize, row[:\u001b[39m17\u001b[39;49m]) \u001b[39mfor\u001b[39;49;00m _, row \u001b[39min\u001b[39;49;00m test_data\u001b[39m.\u001b[39;49miterrows()]\n",
      "\u001b[1;32m/Users/lfarias/Downloads/Kaggle-IFT3395/naive_bayes/naive.ipynb Cell 15\u001b[0m line \u001b[0;36m1\n\u001b[0;32m----> <a href='vscode-notebook-cell:/Users/lfarias/Downloads/Kaggle-IFT3395/naive_bayes/naive.ipynb#X43sZmlsZQ%3D%3D?line=0'>1</a>\u001b[0m predictions \u001b[39m=\u001b[39m [predict(summarize, row[:\u001b[39m17\u001b[39;49m]) \u001b[39mfor\u001b[39;00m _, row \u001b[39min\u001b[39;00m test_data\u001b[39m.\u001b[39miterrows()]\n",
      "\u001b[1;32m/Users/lfarias/Downloads/Kaggle-IFT3395/naive_bayes/naive.ipynb Cell 15\u001b[0m line \u001b[0;36m2\n\u001b[1;32m      <a href='vscode-notebook-cell:/Users/lfarias/Downloads/Kaggle-IFT3395/naive_bayes/naive.ipynb#X43sZmlsZQ%3D%3D?line=0'>1</a>\u001b[0m \u001b[39mdef\u001b[39;00m \u001b[39mpredict\u001b[39m(summaries, row):\n\u001b[0;32m----> <a href='vscode-notebook-cell:/Users/lfarias/Downloads/Kaggle-IFT3395/naive_bayes/naive.ipynb#X43sZmlsZQ%3D%3D?line=1'>2</a>\u001b[0m     probabilities \u001b[39m=\u001b[39m calculate_class_probabilities(summaries, row[:\u001b[39m17\u001b[39;49m])  \u001b[39m# Use only the first 17 features\u001b[39;00m\n\u001b[1;32m      <a href='vscode-notebook-cell:/Users/lfarias/Downloads/Kaggle-IFT3395/naive_bayes/naive.ipynb#X43sZmlsZQ%3D%3D?line=2'>3</a>\u001b[0m     best_label, best_prob \u001b[39m=\u001b[39m \u001b[39mNone\u001b[39;00m, \u001b[39m-\u001b[39m\u001b[39m1\u001b[39m\n\u001b[1;32m      <a href='vscode-notebook-cell:/Users/lfarias/Downloads/Kaggle-IFT3395/naive_bayes/naive.ipynb#X43sZmlsZQ%3D%3D?line=3'>4</a>\u001b[0m     \u001b[39mfor\u001b[39;00m class_value, probability \u001b[39min\u001b[39;00m probabilities\u001b[39m.\u001b[39mitems():\n",
      "\u001b[1;32m/Users/lfarias/Downloads/Kaggle-IFT3395/naive_bayes/naive.ipynb Cell 15\u001b[0m line \u001b[0;36m3\n\u001b[1;32m      <a href='vscode-notebook-cell:/Users/lfarias/Downloads/Kaggle-IFT3395/naive_bayes/naive.ipynb#X43sZmlsZQ%3D%3D?line=0'>1</a>\u001b[0m \u001b[39mdef\u001b[39;00m \u001b[39mcalculate_class_probabilities\u001b[39m(summaries, row):\n\u001b[1;32m      <a href='vscode-notebook-cell:/Users/lfarias/Downloads/Kaggle-IFT3395/naive_bayes/naive.ipynb#X43sZmlsZQ%3D%3D?line=1'>2</a>\u001b[0m     probabilities \u001b[39m=\u001b[39m {}\n\u001b[0;32m----> <a href='vscode-notebook-cell:/Users/lfarias/Downloads/Kaggle-IFT3395/naive_bayes/naive.ipynb#X43sZmlsZQ%3D%3D?line=2'>3</a>\u001b[0m     \u001b[39mfor\u001b[39;00m class_value, class_summaries \u001b[39min\u001b[39;00m summaries\u001b[39m.\u001b[39;49mitems():\n\u001b[1;32m      <a href='vscode-notebook-cell:/Users/lfarias/Downloads/Kaggle-IFT3395/naive_bayes/naive.ipynb#X43sZmlsZQ%3D%3D?line=3'>4</a>\u001b[0m         probabilities[class_value] \u001b[39m=\u001b[39m \u001b[39m1.0\u001b[39m  \u001b[39m# Initialize the probability for the class\u001b[39;00m\n\u001b[1;32m      <a href='vscode-notebook-cell:/Users/lfarias/Downloads/Kaggle-IFT3395/naive_bayes/naive.ipynb#X43sZmlsZQ%3D%3D?line=4'>5</a>\u001b[0m         \u001b[39mfor\u001b[39;00m i, (mean, stdev) \u001b[39min\u001b[39;00m \u001b[39menumerate\u001b[39m(class_summaries):\n",
      "\u001b[0;31mAttributeError\u001b[0m: 'function' object has no attribute 'items'"
     ]
    }
   ],
   "source": [
    "predictions = [predict(summarize, row[:17]) for _, row in test_data.iterrows()]"
   ]
  },
  {
   "cell_type": "code",
   "execution_count": 133,
   "metadata": {},
   "outputs": [],
   "source": [
    "def main(train_path, test_path):\n",
    "    train, test = load_data(train_path, test_path)\n",
    "    predictions = naive_bayes(train, test)\n",
    "    actual = test.iloc[:, -1].values\n",
    "    accuracy = accuracy_metric(actual, predictions)\n",
    "    print(\"Accuracy: {:.2f}%\".format(accuracy))\n"
   ]
  },
  {
   "cell_type": "code",
   "execution_count": 134,
   "metadata": {},
   "outputs": [
    {
     "ename": "IndexError",
     "evalue": "index 17 is out of bounds for axis 0 with size 17",
     "output_type": "error",
     "traceback": [
      "\u001b[0;31m---------------------------------------------------------------------------\u001b[0m",
      "\u001b[0;31mIndexError\u001b[0m                                Traceback (most recent call last)",
      "\u001b[1;32m/Users/lfarias/Downloads/Kaggle-IFT3395/naive_bayes/naive.ipynb Cell 17\u001b[0m line \u001b[0;36m4\n\u001b[1;32m      <a href='vscode-notebook-cell:/Users/lfarias/Downloads/Kaggle-IFT3395/naive_bayes/naive.ipynb#X41sZmlsZQ%3D%3D?line=1'>2</a>\u001b[0m train_file_path \u001b[39m=\u001b[39m \u001b[39m'\u001b[39m\u001b[39m/Users/lfarias/Downloads/Kaggle-IFT3395/data/train.csv\u001b[39m\u001b[39m'\u001b[39m\n\u001b[1;32m      <a href='vscode-notebook-cell:/Users/lfarias/Downloads/Kaggle-IFT3395/naive_bayes/naive.ipynb#X41sZmlsZQ%3D%3D?line=2'>3</a>\u001b[0m test_file_path \u001b[39m=\u001b[39m \u001b[39m'\u001b[39m\u001b[39m/Users/lfarias/Downloads/Kaggle-IFT3395/data/test.csv\u001b[39m\u001b[39m'\u001b[39m\n\u001b[0;32m----> <a href='vscode-notebook-cell:/Users/lfarias/Downloads/Kaggle-IFT3395/naive_bayes/naive.ipynb#X41sZmlsZQ%3D%3D?line=3'>4</a>\u001b[0m main(train_file_path, test_file_path)\n",
      "\u001b[1;32m/Users/lfarias/Downloads/Kaggle-IFT3395/naive_bayes/naive.ipynb Cell 17\u001b[0m line \u001b[0;36m3\n\u001b[1;32m      <a href='vscode-notebook-cell:/Users/lfarias/Downloads/Kaggle-IFT3395/naive_bayes/naive.ipynb#X41sZmlsZQ%3D%3D?line=0'>1</a>\u001b[0m \u001b[39mdef\u001b[39;00m \u001b[39mmain\u001b[39m(train_path, test_path):\n\u001b[1;32m      <a href='vscode-notebook-cell:/Users/lfarias/Downloads/Kaggle-IFT3395/naive_bayes/naive.ipynb#X41sZmlsZQ%3D%3D?line=1'>2</a>\u001b[0m     train, test \u001b[39m=\u001b[39m load_data(train_path, test_path)\n\u001b[0;32m----> <a href='vscode-notebook-cell:/Users/lfarias/Downloads/Kaggle-IFT3395/naive_bayes/naive.ipynb#X41sZmlsZQ%3D%3D?line=2'>3</a>\u001b[0m     predictions \u001b[39m=\u001b[39m naive_bayes(train, test)\n\u001b[1;32m      <a href='vscode-notebook-cell:/Users/lfarias/Downloads/Kaggle-IFT3395/naive_bayes/naive.ipynb#X41sZmlsZQ%3D%3D?line=3'>4</a>\u001b[0m     actual \u001b[39m=\u001b[39m test\u001b[39m.\u001b[39miloc[:, \u001b[39m-\u001b[39m\u001b[39m1\u001b[39m]\u001b[39m.\u001b[39mvalues\n\u001b[1;32m      <a href='vscode-notebook-cell:/Users/lfarias/Downloads/Kaggle-IFT3395/naive_bayes/naive.ipynb#X41sZmlsZQ%3D%3D?line=4'>5</a>\u001b[0m     accuracy \u001b[39m=\u001b[39m accuracy_metric(actual, predictions)\n",
      "\u001b[1;32m/Users/lfarias/Downloads/Kaggle-IFT3395/naive_bayes/naive.ipynb Cell 17\u001b[0m line \u001b[0;36m3\n\u001b[1;32m      <a href='vscode-notebook-cell:/Users/lfarias/Downloads/Kaggle-IFT3395/naive_bayes/naive.ipynb#X41sZmlsZQ%3D%3D?line=0'>1</a>\u001b[0m \u001b[39mdef\u001b[39;00m \u001b[39mnaive_bayes\u001b[39m(train, test):\n\u001b[1;32m      <a href='vscode-notebook-cell:/Users/lfarias/Downloads/Kaggle-IFT3395/naive_bayes/naive.ipynb#X41sZmlsZQ%3D%3D?line=1'>2</a>\u001b[0m     summaries \u001b[39m=\u001b[39m summarize_by_class(train)  \u001b[39m# Use a different variable name here\u001b[39;00m\n\u001b[0;32m----> <a href='vscode-notebook-cell:/Users/lfarias/Downloads/Kaggle-IFT3395/naive_bayes/naive.ipynb#X41sZmlsZQ%3D%3D?line=2'>3</a>\u001b[0m     predictions \u001b[39m=\u001b[39m [predict(summaries, row[:\u001b[39m17\u001b[39;49m]) \u001b[39mfor\u001b[39;49;00m _, row \u001b[39min\u001b[39;49;00m test\u001b[39m.\u001b[39;49miterrows()]\n\u001b[1;32m      <a href='vscode-notebook-cell:/Users/lfarias/Downloads/Kaggle-IFT3395/naive_bayes/naive.ipynb#X41sZmlsZQ%3D%3D?line=3'>4</a>\u001b[0m     \u001b[39mreturn\u001b[39;00m predictions\n",
      "\u001b[1;32m/Users/lfarias/Downloads/Kaggle-IFT3395/naive_bayes/naive.ipynb Cell 17\u001b[0m line \u001b[0;36m3\n\u001b[1;32m      <a href='vscode-notebook-cell:/Users/lfarias/Downloads/Kaggle-IFT3395/naive_bayes/naive.ipynb#X41sZmlsZQ%3D%3D?line=0'>1</a>\u001b[0m \u001b[39mdef\u001b[39;00m \u001b[39mnaive_bayes\u001b[39m(train, test):\n\u001b[1;32m      <a href='vscode-notebook-cell:/Users/lfarias/Downloads/Kaggle-IFT3395/naive_bayes/naive.ipynb#X41sZmlsZQ%3D%3D?line=1'>2</a>\u001b[0m     summaries \u001b[39m=\u001b[39m summarize_by_class(train)  \u001b[39m# Use a different variable name here\u001b[39;00m\n\u001b[0;32m----> <a href='vscode-notebook-cell:/Users/lfarias/Downloads/Kaggle-IFT3395/naive_bayes/naive.ipynb#X41sZmlsZQ%3D%3D?line=2'>3</a>\u001b[0m     predictions \u001b[39m=\u001b[39m [predict(summaries, row[:\u001b[39m17\u001b[39;49m]) \u001b[39mfor\u001b[39;00m _, row \u001b[39min\u001b[39;00m test\u001b[39m.\u001b[39miterrows()]\n\u001b[1;32m      <a href='vscode-notebook-cell:/Users/lfarias/Downloads/Kaggle-IFT3395/naive_bayes/naive.ipynb#X41sZmlsZQ%3D%3D?line=3'>4</a>\u001b[0m     \u001b[39mreturn\u001b[39;00m predictions\n",
      "\u001b[1;32m/Users/lfarias/Downloads/Kaggle-IFT3395/naive_bayes/naive.ipynb Cell 17\u001b[0m line \u001b[0;36m2\n\u001b[1;32m      <a href='vscode-notebook-cell:/Users/lfarias/Downloads/Kaggle-IFT3395/naive_bayes/naive.ipynb#X41sZmlsZQ%3D%3D?line=0'>1</a>\u001b[0m \u001b[39mdef\u001b[39;00m \u001b[39mpredict\u001b[39m(summaries, row):\n\u001b[0;32m----> <a href='vscode-notebook-cell:/Users/lfarias/Downloads/Kaggle-IFT3395/naive_bayes/naive.ipynb#X41sZmlsZQ%3D%3D?line=1'>2</a>\u001b[0m     probabilities \u001b[39m=\u001b[39m calculate_class_probabilities(summaries, row[:\u001b[39m17\u001b[39;49m])  \u001b[39m# Use only the first 17 features\u001b[39;00m\n\u001b[1;32m      <a href='vscode-notebook-cell:/Users/lfarias/Downloads/Kaggle-IFT3395/naive_bayes/naive.ipynb#X41sZmlsZQ%3D%3D?line=2'>3</a>\u001b[0m     best_label, best_prob \u001b[39m=\u001b[39m \u001b[39mNone\u001b[39;00m, \u001b[39m-\u001b[39m\u001b[39m1\u001b[39m\n\u001b[1;32m      <a href='vscode-notebook-cell:/Users/lfarias/Downloads/Kaggle-IFT3395/naive_bayes/naive.ipynb#X41sZmlsZQ%3D%3D?line=3'>4</a>\u001b[0m     \u001b[39mfor\u001b[39;00m class_value, probability \u001b[39min\u001b[39;00m probabilities\u001b[39m.\u001b[39mitems():\n",
      "\u001b[1;32m/Users/lfarias/Downloads/Kaggle-IFT3395/naive_bayes/naive.ipynb Cell 17\u001b[0m line \u001b[0;36m6\n\u001b[1;32m      <a href='vscode-notebook-cell:/Users/lfarias/Downloads/Kaggle-IFT3395/naive_bayes/naive.ipynb#X41sZmlsZQ%3D%3D?line=3'>4</a>\u001b[0m     probabilities[class_value] \u001b[39m=\u001b[39m \u001b[39m1.0\u001b[39m  \u001b[39m# Initialize the probability for the class\u001b[39;00m\n\u001b[1;32m      <a href='vscode-notebook-cell:/Users/lfarias/Downloads/Kaggle-IFT3395/naive_bayes/naive.ipynb#X41sZmlsZQ%3D%3D?line=4'>5</a>\u001b[0m     \u001b[39mfor\u001b[39;00m i, (mean, stdev) \u001b[39min\u001b[39;00m \u001b[39menumerate\u001b[39m(class_summaries):\n\u001b[0;32m----> <a href='vscode-notebook-cell:/Users/lfarias/Downloads/Kaggle-IFT3395/naive_bayes/naive.ipynb#X41sZmlsZQ%3D%3D?line=5'>6</a>\u001b[0m         probabilities[class_value] \u001b[39m*\u001b[39m\u001b[39m=\u001b[39m calculate_probability(row[i], mean, stdev)\n\u001b[1;32m      <a href='vscode-notebook-cell:/Users/lfarias/Downloads/Kaggle-IFT3395/naive_bayes/naive.ipynb#X41sZmlsZQ%3D%3D?line=7'>8</a>\u001b[0m \u001b[39mreturn\u001b[39;00m probabilities\n",
      "File \u001b[0;32m/Library/Frameworks/Python.framework/Versions/3.11/lib/python3.11/site-packages/pandas/core/series.py:978\u001b[0m, in \u001b[0;36mSeries.__getitem__\u001b[0;34m(self, key)\u001b[0m\n\u001b[1;32m    975\u001b[0m     key \u001b[39m=\u001b[39m unpack_1tuple(key)\n\u001b[1;32m    977\u001b[0m \u001b[39mif\u001b[39;00m is_integer(key) \u001b[39mand\u001b[39;00m \u001b[39mself\u001b[39m\u001b[39m.\u001b[39mindex\u001b[39m.\u001b[39m_should_fallback_to_positional:\n\u001b[0;32m--> 978\u001b[0m     \u001b[39mreturn\u001b[39;00m \u001b[39mself\u001b[39;49m\u001b[39m.\u001b[39;49m_values[key]\n\u001b[1;32m    980\u001b[0m \u001b[39melif\u001b[39;00m key_is_scalar:\n\u001b[1;32m    981\u001b[0m     \u001b[39mreturn\u001b[39;00m \u001b[39mself\u001b[39m\u001b[39m.\u001b[39m_get_value(key)\n",
      "\u001b[0;31mIndexError\u001b[0m: index 17 is out of bounds for axis 0 with size 17"
     ]
    }
   ],
   "source": [
    "if __name__ == \"__main__\":\n",
    "    train_file_path = '/Users/lfarias/Downloads/Kaggle-IFT3395/data/train.csv'\n",
    "    test_file_path = '/Users/lfarias/Downloads/Kaggle-IFT3395/data/test.csv'\n",
    "    main(train_file_path, test_file_path)"
   ]
  },
  {
   "cell_type": "code",
   "execution_count": 60,
   "metadata": {},
   "outputs": [],
   "source": [
    "def evaluate_algorithm(dataset, algorithm, n_folds, *args):\n",
    "    test_set = df.values\n",
    "    predicted = algorithm(df, test_set)\n",
    "    actual = df.values[:,-1]\n",
    "    correct = 0\n",
    "    for i in range(len(actual)):\n",
    "        if actual[i] == predicted[i]:\n",
    "            correct += 1\n",
    "    print(\"Accuracy: \", correct/float(len(actual)) * 100.0)"
   ]
  },
  {
   "cell_type": "code",
   "execution_count": 62,
   "metadata": {},
   "outputs": [
    {
     "name": "stdout",
     "output_type": "stream",
     "text": [
      "Unique classes: [1.0, 2.0, 0.0]\n"
     ]
    }
   ],
   "source": [
    "model = summarize_by_class(df.values)\n"
   ]
  },
  {
   "cell_type": "code",
   "execution_count": 63,
   "metadata": {},
   "outputs": [],
   "source": [
    "label = predict(model, test.values[0])"
   ]
  },
  {
   "cell_type": "code",
   "execution_count": 64,
   "metadata": {},
   "outputs": [
    {
     "name": "stdout",
     "output_type": "stream",
     "text": [
      "Data: [ 1.00000000e+00 -3.03911343e+01  3.54375000e+02  2.59074821e+01\n",
      "  6.66206980e+00 -1.75104466e+01 -7.43265343e+00 -3.93602991e+00\n",
      "  1.06240030e-02  1.01532539e+05  1.01532539e+05  2.13092209e+02\n",
      "  2.56032043e+02  3.35000000e-09  2.90697632e+02  2.90039947e+02\n",
      "  1.29814316e+02  1.19486885e+04  6.37522736e+01  2.01010090e+07], Predicted: 2.0\n"
     ]
    }
   ],
   "source": [
    "print('Data: %s, Predicted: %s' % (test.values[0], label))"
   ]
  },
  {
   "cell_type": "code",
   "execution_count": 68,
   "metadata": {},
   "outputs": [
    {
     "name": "stdout",
     "output_type": "stream",
     "text": [
      "Unique classes: [1.0, 2.0, 0.0]\n"
     ]
    },
    {
     "ename": "IndexError",
     "evalue": "list index out of range",
     "output_type": "error",
     "traceback": [
      "\u001b[0;31m---------------------------------------------------------------------------\u001b[0m",
      "\u001b[0;31mIndexError\u001b[0m                                Traceback (most recent call last)",
      "\u001b[1;32m/Users/lfarias/Downloads/Kaggle-IFT3395/naive_bayes/naive.ipynb Cell 20\u001b[0m line \u001b[0;36m3\n\u001b[1;32m      <a href='vscode-notebook-cell:/Users/lfarias/Downloads/Kaggle-IFT3395/naive_bayes/naive.ipynb#X34sZmlsZQ%3D%3D?line=0'>1</a>\u001b[0m \u001b[39m# run cell 13 first to define the variable predicted\u001b[39;00m\n\u001b[1;32m      <a href='vscode-notebook-cell:/Users/lfarias/Downloads/Kaggle-IFT3395/naive_bayes/naive.ipynb#X34sZmlsZQ%3D%3D?line=1'>2</a>\u001b[0m predicted \u001b[39m=\u001b[39m naive_bayes(df\u001b[39m.\u001b[39mvalues, test\u001b[39m.\u001b[39mvalues)\n\u001b[0;32m----> <a href='vscode-notebook-cell:/Users/lfarias/Downloads/Kaggle-IFT3395/naive_bayes/naive.ipynb#X34sZmlsZQ%3D%3D?line=2'>3</a>\u001b[0m acc \u001b[39m=\u001b[39m accuracy_metric(df\u001b[39m.\u001b[39;49mvalues[:,\u001b[39m-\u001b[39;49m\u001b[39m1\u001b[39;49m], predicted)\n\u001b[1;32m      <a href='vscode-notebook-cell:/Users/lfarias/Downloads/Kaggle-IFT3395/naive_bayes/naive.ipynb#X34sZmlsZQ%3D%3D?line=3'>4</a>\u001b[0m \u001b[39mprint\u001b[39m(acc)\n",
      "\u001b[1;32m/Users/lfarias/Downloads/Kaggle-IFT3395/naive_bayes/naive.ipynb Cell 20\u001b[0m line \u001b[0;36m4\n\u001b[1;32m      <a href='vscode-notebook-cell:/Users/lfarias/Downloads/Kaggle-IFT3395/naive_bayes/naive.ipynb#X34sZmlsZQ%3D%3D?line=1'>2</a>\u001b[0m correct \u001b[39m=\u001b[39m \u001b[39m0\u001b[39m\n\u001b[1;32m      <a href='vscode-notebook-cell:/Users/lfarias/Downloads/Kaggle-IFT3395/naive_bayes/naive.ipynb#X34sZmlsZQ%3D%3D?line=2'>3</a>\u001b[0m \u001b[39mfor\u001b[39;00m i \u001b[39min\u001b[39;00m \u001b[39mrange\u001b[39m(\u001b[39mlen\u001b[39m(actual)):\n\u001b[0;32m----> <a href='vscode-notebook-cell:/Users/lfarias/Downloads/Kaggle-IFT3395/naive_bayes/naive.ipynb#X34sZmlsZQ%3D%3D?line=3'>4</a>\u001b[0m     \u001b[39mif\u001b[39;00m actual[i] \u001b[39m==\u001b[39m predicted[i]:\n\u001b[1;32m      <a href='vscode-notebook-cell:/Users/lfarias/Downloads/Kaggle-IFT3395/naive_bayes/naive.ipynb#X34sZmlsZQ%3D%3D?line=4'>5</a>\u001b[0m         correct \u001b[39m+\u001b[39m\u001b[39m=\u001b[39m\u001b[39m1\u001b[39m\n\u001b[1;32m      <a href='vscode-notebook-cell:/Users/lfarias/Downloads/Kaggle-IFT3395/naive_bayes/naive.ipynb#X34sZmlsZQ%3D%3D?line=5'>6</a>\u001b[0m \u001b[39mreturn\u001b[39;00m correct \u001b[39m/\u001b[39m \u001b[39mfloat\u001b[39m(\u001b[39mlen\u001b[39m(actual)) \u001b[39m*\u001b[39m \u001b[39m100.0\u001b[39m\n",
      "\u001b[0;31mIndexError\u001b[0m: list index out of range"
     ]
    }
   ],
   "source": [
    "# run cell 13 first to define the variable predicted\n",
    "predicted = naive_bayes(df, test.values)\n",
    "acc = accuracy_metric(df.iloc[:,-1], predicted)\n",
    "print(acc)\n"
   ]
  },
  {
   "cell_type": "code",
   "execution_count": null,
   "metadata": {},
   "outputs": [],
   "source": []
  }
 ],
 "metadata": {
  "kernelspec": {
   "display_name": "Python 3",
   "language": "python",
   "name": "python3"
  },
  "language_info": {
   "codemirror_mode": {
    "name": "ipython",
    "version": 3
   },
   "file_extension": ".py",
   "mimetype": "text/x-python",
   "name": "python",
   "nbconvert_exporter": "python",
   "pygments_lexer": "ipython3",
   "version": "3.11.0"
  },
  "orig_nbformat": 4
 },
 "nbformat": 4,
 "nbformat_minor": 2
}
